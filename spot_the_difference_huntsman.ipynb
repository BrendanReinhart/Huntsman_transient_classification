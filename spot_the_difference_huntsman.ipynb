{
 "cells": [
  {
   "cell_type": "markdown",
   "metadata": {},
   "source": [
    "# Automated Transient Determination"
   ]
  },
  {
   "cell_type": "code",
   "execution_count": 68,
   "metadata": {
    "collapsed": false
   },
   "outputs": [],
   "source": [
    "from __future__ import division, print_function, unicode_literals\n",
    "import time\n",
    "#import os\n",
    "#import glob\n",
    "#import subprocess\n",
    "import numpy as np\n",
    "import math\n",
    "import astropy.io.fits as fits\n",
    "import sys\n",
    "import datetime\n",
    "import ephem"
   ]
  },
  {
   "cell_type": "markdown",
   "metadata": {},
   "source": [
    "### Here we can add the below process to the existing Transients code"
   ]
  },
  {
   "cell_type": "code",
   "execution_count": 2,
   "metadata": {
    "collapsed": true
   },
   "outputs": [],
   "source": [
    "#This section tells the code where the files are. \n",
    "#data_path should point to the directory that holds the .resamp.fits files \n",
    "#produced by swarp (usually by Jack's Code)\n",
    "data_path = ('./output/Temp/')\n",
    "\n",
    "#master_file is the final processed image made from the above resamp files.\n",
    "master_file = ['./output/coadd_ngc300_r.fits']\n",
    "\n",
    "#master_weight is the weight file which corresponds to the above master file.\n",
    "master_weight = ['./output/coadd_ngc300_r.weight.fits']"
   ]
  },
  {
   "cell_type": "code",
   "execution_count": 3,
   "metadata": {
    "collapsed": false
   },
   "outputs": [],
   "source": [
    "#These variables are lists of the resampled files and their corresponding weights.\n",
    "\n",
    "resamps=sorted(glob.glob(data_path+'*.resamp.fits'))\n",
    "weights=sorted(glob.glob(data_path+'*.resamp.weight.fits'))"
   ]
  },
  {
   "cell_type": "code",
   "execution_count": 10,
   "metadata": {
    "collapsed": false
   },
   "outputs": [],
   "source": [
    "#Creates a segmentation map from the master file. This will be used to generate flag files later.\n",
    "#To tweak the sensitivity of this segmentation map (brightness of objects it identifies for flagging), change\n",
    "#the DETECT_THRESH and ANALYSIS_THRESH values in segmentation.sex, located in the config_files directory.\n",
    "#This file is a temporary file, but the code will not delete it by default, as it can be a useful analysis tool.\n",
    "\n",
    "subprocess.call('sex '+master_file[0]+' -c ./config_files/segmentation.sex -WEIGHT_IMAGE '+master_weight[0], shell=True)\n",
    "subprocess.call('mv ./Processed_Images/Temp/check.fits ./Processed_Images/Temp/segmentation_map_ref.fits', shell=True)\n",
    "master_segmentation = ['./Processed_Images/Temp/segmentation_map_ref.fits']"
   ]
  },
  {
   "cell_type": "code",
   "execution_count": 12,
   "metadata": {
    "collapsed": false
   },
   "outputs": [
    {
     "data": {
      "text/plain": [
       "0"
      ]
     },
     "execution_count": 12,
     "metadata": {},
     "output_type": "execute_result"
    }
   ],
   "source": [
    "#This loop creates all the difference images and their respective object, background, and aperture maps.\n",
    "\n",
    "for i in range(0,2):#len(resamps)):\n",
    "    reference=fits.open(master_file[0])\n",
    "    resampled=fits.open(resamps[i])\n",
    "    \n",
    "    #measures the distance from the central WCS pixel to the right and to the bottom of the image, respectively.\n",
    "    resdistx=(resampled[0].header['NAXIS1']-resampled[0].header['CRPIX1'])\n",
    "    resdisty=(resampled[0].header['NAXIS2']-resampled[0].header['CRPIX2'])\n",
    "    \n",
    "    #Creates difference values that represent the start and end pixels of the resampled image on the reference image.\n",
    "    ref_x_start=int(reference[0].header['CRPIX1']-resampled[0].header['CRPIX1'])\n",
    "    ref_y_start=int(reference[0].header['CRPIX2']-resampled[0].header['CRPIX2'])\n",
    "    ref_x_end=int(reference[0].header['CRPIX1']+resdistx)\n",
    "    ref_y_end=int(reference[0].header['CRPIX2']+resdisty)\n",
    "    \n",
    "    #loading files into memory\n",
    "    refimg=pyfits.open(master_file[0])\n",
    "    resimg=pyfits.open(resamps[i])\n",
    "    segimg=pyfits.open(master_segmentation[0])\n",
    "    \n",
    "    #converting to array\n",
    "    D1=refimg[0].data\n",
    "    D2=resimg[0].data\n",
    "    D3=segimg[0].data\n",
    "    \n",
    "    #resizing and scaling pixel values\n",
    "    resize_ref=D1[ref_y_start:ref_y_end,ref_x_start:ref_x_end]\n",
    "    resamp_scaled=D2*resampled[0].header['FLXSCALE']\n",
    "    resize_seg=D3[ref_y_start:ref_y_end,ref_x_start:ref_x_end]\n",
    "    \n",
    "    #doing the subtraction of the reference image from the resampled\n",
    "    out_file=resamp_scaled-resize_ref\n",
    "    \n",
    "    #loading header information from original resampled image. This will be saved into the new images.\n",
    "    head=pyfits.getheader(resamps[i])\n",
    "    \n",
    "    #loads the filename of the resamp image into a variable, then deletes .resamp.fits from the end of it.\n",
    "    #This allows the code to write new files with the same naming format, but different file extension names.\n",
    "    #If your files don't end in .resamp.fits, the -12 will need to be changed to match the number of characters\n",
    "    #in the file extension.\n",
    "    path=os.path.basename(resamps[i])\n",
    "    new_path=path[:-12]\n",
    "    \n",
    "    #saves the final difference file, and the temporary resized segmentation map.\n",
    "    pyfits.writeto(('./Processed_Images/'+new_path+'.difference.fits'), out_file, head)\n",
    "    pyfits.writeto(('./Processed_Images/Temp/temp_segment.fits'), resize_seg, head)\n",
    "    \n",
    "    #produces a flag map from the temporary segmentation map.\n",
    "    subprocess.call('ww -c ./config_files/default.ww -WEIGHT_NAMES '+weights[i]+',./Processed_Images/Temp/temp_segment.fits', shell=True)\n",
    "    \n",
    "    #does the main sextractor run on the subtracted file, producing the object, background, and aperture files.\n",
    "    #this is controlled by default.sex in the config_files directory\n",
    "    subprocess.call('sex ./Processed_Images/'+new_path+'.difference.fits -c ./config_files/default.sex', shell=True)\n",
    "    \n",
    "    #cleans up temporary files and renames background, object, and aperture files. \n",
    "    subprocess.call('rm ./Processed_Images/Temp/temp_segment.fits',shell=True)\n",
    "    subprocess.call('mv ./Processed_Images/check.fits ./Processed_Images/'+new_path+'.background.fits',shell=True)\n",
    "    subprocess.call('mv ./Processed_Images/check2.fits ./Processed_Images/'+new_path+'.object.fits',shell=True)\n",
    "    subprocess.call('mv ./Processed_Images/check3.fits ./Processed_Images/'+new_path+'.apertures.fits',shell=True)\n",
    "    subprocess.call('rm ./Processed_Images/Temp/weight.fits',shell=True)\n",
    "    subprocess.call('rm ./Processed_Images/Temp/flag.fits',shell=True)\n",
    "#Uncomment the next line if you would like the code to automatically clean up the master segmentation map.\n",
    "#subprocess.call('rm ./Processed_Images/Temp/segmentation_map_ref.fits',shell=True)"
   ]
  },
  {
   "cell_type": "code",
   "execution_count": null,
   "metadata": {
    "collapsed": true
   },
   "outputs": [],
   "source": []
  },
  {
   "cell_type": "code",
   "execution_count": null,
   "metadata": {
    "collapsed": true
   },
   "outputs": [],
   "source": []
  },
  {
   "cell_type": "markdown",
   "metadata": {
    "collapsed": true
   },
   "source": [
    "# Begin Brendan's Transient checking script:"
   ]
  },
  {
   "cell_type": "code",
   "execution_count": 3,
   "metadata": {
    "collapsed": true
   },
   "outputs": [],
   "source": [
    "# this is where the code can be tacked onto the pipeline, after subtracting reference images.\n",
    "# At this point we should have a combined image, with reference subtracted, where the only point sources remaining\n",
    "# (in theory) are transients such as supernovae or asteroids.\n",
    "\n",
    "# This code aims to classify such sources as either known asteroids or anomalies, which can then be manually checked."
   ]
  },
  {
   "cell_type": "markdown",
   "metadata": {},
   "source": [
    "### Run SExtractor once more to spot remaining (transient) sources:"
   ]
  },
  {
   "cell_type": "code",
   "execution_count": null,
   "metadata": {
    "collapsed": true
   },
   "outputs": [],
   "source": []
  },
  {
   "cell_type": "markdown",
   "metadata": {},
   "source": [
    "Generate list of sources:"
   ]
  },
  {
   "cell_type": "markdown",
   "metadata": {
    "collapsed": true
   },
   "source": [
    "## Check against catalogues of known asteroids:"
   ]
  },
  {
   "cell_type": "code",
   "execution_count": 4,
   "metadata": {
    "collapsed": true
   },
   "outputs": [],
   "source": [
    "# Download latest MPCORB catalogue from:\n",
    "# www.minorplanetcenter.org/iau/MPCORB/MPCORB.DAT\n",
    "\n",
    "# Full list of paramters and how to read the data:\n",
    "# http://www.minorplanetcenter.net/iau/info/MPOrbitFormat.html\n",
    "\n",
    "\n",
    "# and do a manual check using PYEPHEM."
   ]
  },
  {
   "cell_type": "markdown",
   "metadata": {},
   "source": [
    "### Fiddling around with pyephem:"
   ]
  },
  {
   "cell_type": "code",
   "execution_count": 5,
   "metadata": {
    "collapsed": false
   },
   "outputs": [
    {
     "name": "stdout",
     "output_type": "stream",
     "text": [
      "1997/3/10 05:16:30\n",
      "2015/5/22 10:56:38\n"
     ]
    },
    {
     "ename": "ValueError",
     "evalue": "dates must be initialized from a number, string, tuple, or datetime",
     "output_type": "error",
     "traceback": [
      "\u001b[0;31m---------------------------------------------------------------------------\u001b[0m",
      "\u001b[0;31mValueError\u001b[0m                                Traceback (most recent call last)",
      "\u001b[0;32m<ipython-input-5-61d6832e6c4e>\u001b[0m in \u001b[0;36m<module>\u001b[0;34m()\u001b[0m\n\u001b[1;32m     14\u001b[0m \u001b[0;31m# date method 3:\u001b[0m\u001b[0;34m\u001b[0m\u001b[0;34m\u001b[0m\u001b[0m\n\u001b[1;32m     15\u001b[0m \u001b[0;31m# this SHOULD return the same value as the above two.. not sure. will have to work around for now.\u001b[0m\u001b[0;34m\u001b[0m\u001b[0;34m\u001b[0m\u001b[0m\n\u001b[0;32m---> 16\u001b[0;31m \u001b[0md\u001b[0m \u001b[0;34m=\u001b[0m \u001b[0mephem\u001b[0m\u001b[0;34m.\u001b[0m\u001b[0mDate\u001b[0m\u001b[0;34m(\u001b[0m\u001b[0;34m'1997/03/10 05:16:30.0'\u001b[0m\u001b[0;34m)\u001b[0m\u001b[0;34m\u001b[0m\u001b[0m\n\u001b[0m\u001b[1;32m     17\u001b[0m \u001b[0;32mprint\u001b[0m\u001b[0;34m(\u001b[0m\u001b[0md\u001b[0m\u001b[0;34m)\u001b[0m\u001b[0;34m\u001b[0m\u001b[0m\n",
      "\u001b[0;31mValueError\u001b[0m: dates must be initialized from a number, string, tuple, or datetime"
     ]
    }
   ],
   "source": [
    "# The following 3 date entries should be indentical, but the preferred method (#3 below) is not recognised \n",
    "# for some reason...:\n",
    "\n",
    "# date method 1:\n",
    "print(ephem.Date(35497.7197916667))\n",
    "\n",
    "# date method 2:\n",
    "# Note: careful of  double parentheses; for some reason they are required.\n",
    "efg = ephem.Date((1997, 11, 13, 5, 16, 30.0))\n",
    "hhh = (2015, 5, 22.456)\n",
    "print(ephem.Date(hhh))\n",
    "\n",
    "\n",
    "# date method 3:\n",
    "# this SHOULD return the same value as the above two.. not sure. will have to work around for now.\n",
    "d = ephem.Date('1997/03/10 05:16:30.0')\n",
    "print(d)"
   ]
  },
  {
   "cell_type": "code",
   "execution_count": 141,
   "metadata": {
    "collapsed": false
   },
   "outputs": [
    {
     "name": "stdout",
     "output_type": "stream",
     "text": [
      "14:55:17.71 -16:49:57.9\n",
      "14:55:30.18 -16:43:34.6\n",
      "0:07:03.0\n",
      "0:07:03.0\n"
     ]
    }
   ],
   "source": [
    "# Checking ephem.separation() function at time of Mercury transit.\n",
    "\n",
    "m = ephem.Mercury()\n",
    "m.compute((2006, 11, 8, 21, 41, 0))\n",
    "\n",
    "n = ephem.Sun()\n",
    "n.compute((2006, 11, 8, 21, 41, 0))\n",
    "\n",
    "print(m.ra, m.dec)\n",
    "print (n.ra, n.dec)\n",
    "sep = ephem.separation(m,n)\n",
    "print(sep)\n",
    "print(ephem.degrees(sep))\n",
    "# Angular separation < 30 arcmin = transit :)\n",
    "# she works!"
   ]
  },
  {
   "cell_type": "code",
   "execution_count": 7,
   "metadata": {
    "collapsed": false
   },
   "outputs": [
    {
     "name": "stdout",
     "output_type": "stream",
     "text": [
      "114:31:07.0\n"
     ]
    }
   ],
   "source": [
    "if sep < ephem.degrees(0.00581776):\n",
    "    print('the threshold is ' + str(ephem.degrees(0.00581776)))\n",
    "    print('separation smaller than threshold.')\n",
    "else:\n",
    "    print(sep)"
   ]
  },
  {
   "cell_type": "code",
   "execution_count": 8,
   "metadata": {
    "collapsed": false
   },
   "outputs": [
    {
     "name": "stdout",
     "output_type": "stream",
     "text": [
      "20:00:56.48  -21:30:08.1\n"
     ]
    }
   ],
   "source": [
    "m = ephem.Mars()\n",
    "d1 = ephem.Date((2009, 2, 2, 0, 0, 0))\n",
    "m.compute(d1)\n",
    "print(('%s  %s') %(m.ra, m.dec))"
   ]
  },
  {
   "cell_type": "markdown",
   "metadata": {},
   "source": [
    "### Import MPCORB database and split into a table:"
   ]
  },
  {
   "cell_type": "code",
   "execution_count": 142,
   "metadata": {
    "collapsed": false,
    "scrolled": true
   },
   "outputs": [],
   "source": [
    "# Load MPCORB.DAT data into an array:\n",
    "# delimiter to split data into required columns\n",
    "# Add 'skip_header=41' parameter when using real data to skip header info\n",
    "# length of line = 202 characters\n",
    "# \n",
    "# names = ['designation', 'abs mag', 'slope param', 'epoch', 'mean epoch anomaly', 'perihelion arg', 'longitude', /\n",
    "# 'inclination', 'eccentricity', 'mean daily motion', 'semimajor axis', 'uncertainty', 'reference', 'num obs', /\n",
    "# 'num opp', 'obs years / arc length', 'rms', 'coarse perturb', 'precise perturb', 'comp name', '4hex flag', / \n",
    "# 'readable designation', 'last obs']\n",
    "\n",
    "MPCORB = np.genfromtxt('MPCORB/MPCORB.DAT', autostrip=True, skip_header=41, dtype=str,  delimiter = [8,6,6,6,10,11,11,11,11,12,12,3,10,6,4,10,5,4,4,11,5,28,8])\n",
    "\n",
    "designation = MPCORB[:,0]\n",
    "abs_mag = MPCORB[:,1]\n",
    "slope_param = MPCORB[:,2]\n",
    "epoch = MPCORB[:,3]\n",
    "mean_epoch_anomaly = MPCORB[:,4]\n",
    "perihelion_arg = MPCORB[:,5]\n",
    "longitude = MPCORB[:,6]\n",
    "inclination = MPCORB[:,7]\n",
    "eccentricity = MPCORB[:,8]\n",
    "mean_daily_motion = MPCORB[:,9]\n",
    "semimajor_axis = MPCORB[:,10]\n",
    "uncertainty = MPCORB[:,11]\n",
    "reference = MPCORB[:,12]\n",
    "num_obs = MPCORB[:,13]\n",
    "num_opp = MPCORB[:,14]\n",
    "obs_years_arc_length = MPCORB[:,15]\n",
    "rms = MPCORB[:,16]\n",
    "coarse_perturb = MPCORB[:,17]\n",
    "precise_perturb = MPCORB[:,18]\n",
    "comp_name = MPCORB[:,19]\n",
    "hex_flag =  MPCORB[:,20]\n",
    "read_des = MPCORB[:,21]\n",
    "last_obs = MPCORB[:,22]"
   ]
  },
  {
   "cell_type": "code",
   "execution_count": 143,
   "metadata": {
    "collapsed": false
   },
   "outputs": [
    {
     "data": {
      "text/plain": [
       "703569"
      ]
     },
     "execution_count": 143,
     "metadata": {},
     "output_type": "execute_result"
    }
   ],
   "source": [
    "len(perihelion_arg)"
   ]
  },
  {
   "cell_type": "markdown",
   "metadata": {},
   "source": [
    "### Define a function to extract the packed Epoch date format given in the MPCORB data:"
   ]
  },
  {
   "cell_type": "code",
   "execution_count": 144,
   "metadata": {
    "collapsed": false
   },
   "outputs": [],
   "source": [
    "# define dictionary of alpha to numbers for MPCORB packed dates translation:\n",
    "# see  <http://www.minorplanetcenter.net/iau/info/PackedDates.html>  for more info.\n",
    "\n",
    "def epoch_convert(date):\n",
    "    \n",
    "    \"Converts the MPCORB Epoch from packed form to a regular YYYYMMDD.DDDD string to be split up and used later.\"\n",
    "    \n",
    "    packeddates = {'1':'1', '2':'2', '3':'3', '4':'4', '5':'5', '6':'6', '7':'7', '8':'8', '9':'9', \\\n",
    "                   '0':'0', 'A':'10', 'B':'11', 'C':'12', 'D':'13', 'E':'14', 'F':'15', 'G':'16', \\\n",
    "                   'H':'17', 'I':'18', 'J':'19', 'K':'20', 'L':'21', 'M':'22', 'N':'23', 'O':'24', \\\n",
    "                   'P':'25', 'Q':'26', 'R':'27', 'S':'28','T':'29', 'U':'30', 'V':'31' \\\n",
    "              }\n",
    "    datestring = list(date[0:5])\n",
    "    datestring2 = \"\"\n",
    "    nums = \"0123456789\"\n",
    "    \n",
    "    # Conditionals to distinguish between packed dates, eg  avoid confusion between 1-Nov (11 1) /\n",
    "    # and 11-Jan (1 11) when compiled back into a string (111). \n",
    "    # We convert all single-digit numeric month/day values to 2-digits (eg 6 --> 06):\n",
    "    \n",
    "    if date[3] in nums and date[4] in nums:\n",
    "        datestring.insert(3,'0')\n",
    "        datestring.insert(5,'0')\n",
    "        for i in range(len(datestring)):\n",
    "            char = packeddates['%s' % datestring[i]]\n",
    "            datestring2 += str(char)\n",
    "        if len(date) > 5:\n",
    "            datestring2 += \".\" + date[5:]\n",
    "        return datestring2 \n",
    "    elif date[3] in nums and date[4] not in nums:\n",
    "        datestring.insert(3,'0')\n",
    "        for i in range(len(datestring)):\n",
    "            char = packeddates['%s' % datestring[i]]\n",
    "            datestring2 += str(char)\n",
    "        if len(date) > 5:\n",
    "            datestring2 += \".\" + date[5:]\n",
    "        return datestring2\n",
    "    elif date[3] not in nums and date[4] in nums:\n",
    "        datestring.insert(4,'0')\n",
    "        for i in range(len(datestring)):\n",
    "            char = packeddates['%s' % datestring[i]]\n",
    "            datestring2 += str(char)\n",
    "        if len(date) > 5:\n",
    "            datestring2 += \".\" + date[5:]\n",
    "        return datestring2\n",
    "    elif date[3] not in nums and date[4] not in nums:\n",
    "        for i in range(len(datestring)):\n",
    "            char = packeddates['%s' % datestring[i]]\n",
    "            datestring2 += str(char)\n",
    "        if len(date) > 5:\n",
    "            datestring2 += \".\" + date[5:]\n",
    "        return datestring2\n",
    "    \n",
    "    print(datestring2)"
   ]
  },
  {
   "cell_type": "code",
   "execution_count": 145,
   "metadata": {
    "collapsed": false
   },
   "outputs": [
    {
     "name": "stdout",
     "output_type": "stream",
     "text": [
      "20160511.5566\n",
      "(2016, 5, 11.5566)\n",
      "2016/5/11 13:21:30\n",
      "20160511.5566\n"
     ]
    }
   ],
   "source": [
    "test1 = 'K165B5566'\n",
    "test2 = epoch_convert(test1)\n",
    "print(test2)\n",
    "hhh = (int(test2[:4]), int(test2[4:6]), float(test2[6:]))\n",
    "print(hhh)\n",
    "print(ephem.Date(hhh))\n",
    "print('%s' % (test2))"
   ]
  },
  {
   "cell_type": "code",
   "execution_count": 146,
   "metadata": {
    "collapsed": false
   },
   "outputs": [
    {
     "name": "stdout",
     "output_type": "stream",
     "text": [
      "2016 5 11.5566\n",
      "2016/5/11 13:21:30\n",
      "2016/5/11 06:09:30\n"
     ]
    },
    {
     "data": {
      "text/plain": [
       "42500.0566"
      ]
     },
     "execution_count": 146,
     "metadata": {},
     "output_type": "execute_result"
    }
   ],
   "source": [
    "a = int(test2[:4])\n",
    "b = int(test2[4:6])\n",
    "c = float(test2[6:])\n",
    "print(a, b, c)\n",
    "print(ephem.Date((a, b, c)))\n",
    "print(ephem.Date((2016, 5, 11.2566)))\n",
    "ephem.Date((a, b, c))"
   ]
  },
  {
   "cell_type": "markdown",
   "metadata": {},
   "source": [
    "### Load some asteroid parameters into pyephem to test:"
   ]
  },
  {
   "cell_type": "markdown",
   "metadata": {},
   "source": [
    "Required orbital params:\n",
    "\n",
    "Om longitude of the ascending node \n",
    "\n",
    "inc = inclination to the ecliptic (plane of the Earth's orbit)\n",
    "\n",
    "om = argument of perihelion\n",
    "\n",
    "a = semi-major axis, or mean distance from Sun\n",
    "\n",
    "e = eccentricity (0=circle, 0-1=ellipse, 1=parabola)\n",
    "\n",
    "M = mean anomaly (0 at perihelion; increases uniformly with time)"
   ]
  },
  {
   "cell_type": "markdown",
   "metadata": {},
   "source": [
    "## Testing Ephemeris calculation for a real asteroid, Vesta:"
   ]
  },
  {
   "cell_type": "code",
   "execution_count": 147,
   "metadata": {
    "collapsed": false
   },
   "outputs": [
    {
     "name": "stdout",
     "output_type": "stream",
     "text": [
      "2016/1/19 00:00:00\n",
      "['00003' '5.33' '0.32' 'K161D' '123.46680' '248.29396' '169.86255'\n",
      " '12.98987' '0.2562656' '0.22594094' '2.6697633' '0' 'MPO358623' '6721'\n",
      " '103' '1821-2015' '0.60' 'M-v' '38h' 'MPCLINUX' '0000' '(3) Juno'\n",
      " '20151218']\n"
     ]
    }
   ],
   "source": [
    "# initialise a new, blank orbital body and load orbital params:\n",
    "params = MPCORB[2]\n",
    "body = ephem.EllipticalBody()\n",
    "\n",
    "#six required params for Keplerian orbit:\n",
    "# Longitude of ascending node:\n",
    "body._Om = float(params[6])\n",
    "# Inclination:\n",
    "body._inc = float(params[7])\n",
    "# Arg of perihelion\n",
    "body._om = float(params[5])\n",
    "# Mean distance from Sun: ???????????? ACCURATE?? Semi Major Axis, technically.\n",
    "body._a = float(params[10])\n",
    "# Eccentricity:\n",
    "body._e = float(params[8])\n",
    "# Mean anomoly from perihelion:\n",
    "body._M = float(params[4])\n",
    "# Epoch for _M:\n",
    "aster_epoch = epoch_convert('K161D')\n",
    "#body._epoch_M = ephem.Date((int(aster_epoch[:4]), int(aster_epoch[4:6]), float(aster_epoch[6:])))\n",
    "body._epoch_M = ephem.Date((2016, 01, 19))\n",
    "\n",
    "\n",
    "huntsman = ephem.Observer()\n",
    "huntsman.lon = 151.111128\n",
    "huntsman.lat = -33.770281\n",
    "huntsman.elevation = 50\n",
    "huntsman.date = ephem.Date((2016, 11, 26, 0, 0, 0))\n",
    "huntsman.epoch=ephem.J2000\n",
    "#get fits header for date\n",
    "\n",
    "\n",
    "print(body._epoch_M)\n",
    "print(params)"
   ]
  },
  {
   "cell_type": "code",
   "execution_count": 148,
   "metadata": {
    "collapsed": false
   },
   "outputs": [
    {
     "name": "stdout",
     "output_type": "stream",
     "text": [
      "16:26:53.83 -11:49:34.4\n",
      "16:27:48.32 -11:51:34.8\n",
      "16:27:48.29 -11:51:33.7\n"
     ]
    }
   ],
   "source": [
    "body.compute(huntsman)\n",
    "print(body.a_ra, body.a_dec)\n",
    "print(body.g_ra, body.g_dec)\n",
    "print(body.ra, body.dec)"
   ]
  },
  {
   "cell_type": "code",
   "execution_count": 149,
   "metadata": {
    "collapsed": false
   },
   "outputs": [
    {
     "name": "stdout",
     "output_type": "stream",
     "text": [
      "2016/1/19 00:00:00\n",
      "(3) Juno\n",
      "Apparent Topocentric Position:      RA: 14:42:14.21, DEC: -8:40:55.1\n",
      "Astrometric Geocentric Position:   RA: 14:41:23.05, DEC: -8:36:55.9\n",
      "Apparent Geocentric Position:      RA: 14:42:14.21, DEC: -8:40:55.1\n"
     ]
    }
   ],
   "source": [
    "date1 = ephem.Date((2016, 1, 19, 0, 0, 0))\n",
    "body.compute(date1)\n",
    "print(date1)\n",
    "print(params[21])\n",
    "print('Apparent Topocentric Position:      RA: ' +str(body.ra) +', DEC: '+ str(body.dec))\n",
    "print('Astrometric Geocentric Position:   RA: ' +str(body.a_ra) +', DEC: '+ str(body.a_dec))\n",
    "print('Apparent Geocentric Position:      RA: ' +str(body.g_ra) +', DEC: '+ str(body.g_dec))\n",
    "\n",
    "# Correct values for 19 Jan 2016 0:00:00  as per <ssd.jpl.nasa.gov/horizons.cgi>:\n",
    "# 00 52 10.62 -01 26 01.5       \n",
    " \n",
    "# See what values we get for our data!\n",
    "\n",
    "# This was tested at most recent epoch. Test further away from this to check how fast errors will accumulate."
   ]
  },
  {
   "cell_type": "markdown",
   "metadata": {
    "collapsed": true
   },
   "source": [
    "### test reading fits header for pulling date and time of image and store as string."
   ]
  },
  {
   "cell_type": "code",
   "execution_count": 150,
   "metadata": {
    "collapsed": false
   },
   "outputs": [
    {
     "data": {
      "text/plain": [
       "'2014-09-21T15:05:59'"
      ]
     },
     "execution_count": 150,
     "metadata": {},
     "output_type": "execute_result"
    }
   ],
   "source": [
    "light = '2014-09-21_83F011167_12_light.bdfw.fits'\n",
    "datestr = fits.getheader(light)['DATE']\n",
    "datestr"
   ]
  },
  {
   "cell_type": "code",
   "execution_count": 151,
   "metadata": {
    "collapsed": false
   },
   "outputs": [
    {
     "name": "stdout",
     "output_type": "stream",
     "text": [
      "2014/9/21 15:05:59\n"
     ]
    }
   ],
   "source": [
    "print(ephem.Date((int(datestr[0:4]), int(datestr[5:7]), int(datestr[8:10]), int(datestr[11:13]), \\\n",
    "                  int(datestr[14:16]), int(datestr[17:19]))))"
   ]
  },
  {
   "cell_type": "markdown",
   "metadata": {},
   "source": [
    "### Can use this to calculate day fractionals:"
   ]
  },
  {
   "cell_type": "code",
   "execution_count": 152,
   "metadata": {
    "collapsed": false
   },
   "outputs": [
    {
     "name": "stdout",
     "output_type": "stream",
     "text": [
      "(2014, 9, 21.640162037030677)\n"
     ]
    }
   ],
   "source": [
    "d = ephem.Date((2014, 9, 21, 15, 21, 50))\n",
    "print(d.triple())"
   ]
  },
  {
   "cell_type": "markdown",
   "metadata": {
    "collapsed": true
   },
   "source": [
    "## Final code to check series of images against MPCORB:"
   ]
  },
  {
   "cell_type": "code",
   "execution_count": 153,
   "metadata": {
    "collapsed": false
   },
   "outputs": [],
   "source": [
    "# code to conservatively shortlist potentially visible asteroids\n",
    "\n",
    "def asteroid_mag(H, a, e):\n",
    "    \n",
    "    \"A function that takes orbital parameters of asteroids and  returns the apparent magnitude\"\n",
    "    \n",
    "       \n",
    "    perihelion = float(a)*(1.0-float(e))\n",
    "    appmag = float(H) + 2.5*math.log10(perihelion**2 * (perihelion - 1.0)**2)\n",
    "    return float(appmag)"
   ]
  },
  {
   "cell_type": "code",
   "execution_count": 154,
   "metadata": {
    "collapsed": false
   },
   "outputs": [
    {
     "data": {
      "text/plain": [
       "7.493709317166148"
      ]
     },
     "execution_count": 154,
     "metadata": {},
     "output_type": "execute_result"
    }
   ],
   "source": [
    "asteroid_mag(MPCORB[7,1], MPCORB[7,10], MPCORB[7,8])"
   ]
  },
  {
   "cell_type": "code",
   "execution_count": 155,
   "metadata": {
    "collapsed": false
   },
   "outputs": [
    {
     "name": "stdout",
     "output_type": "stream",
     "text": [
      "(8) Flora\n"
     ]
    }
   ],
   "source": [
    "print(MPCORB[7,21])"
   ]
  },
  {
   "cell_type": "code",
   "execution_count": 156,
   "metadata": {
    "collapsed": false
   },
   "outputs": [
    {
     "name": "stdout",
     "output_type": "stream",
     "text": [
      "perihelion at 1.85558209877 AU\n"
     ]
    }
   ],
   "source": [
    "print('perihelion at',(float(MPCORB[7,10])*(1.0 - float(MPCORB[7,8]))),'AU')"
   ]
  },
  {
   "cell_type": "code",
   "execution_count": 157,
   "metadata": {
    "collapsed": false
   },
   "outputs": [
    {
     "name": "stdout",
     "output_type": "stream",
     "text": [
      "checked 10000 objects..\n",
      "9999 asteroid(s) visible\n",
      "1 asteroids not visible\n",
      "checked 20000 objects..\n",
      "19982 asteroid(s) visible\n",
      "18 asteroids not visible\n",
      "checked 30000 objects..\n",
      "29974 asteroid(s) visible\n",
      "26 asteroids not visible\n",
      "checked 40000 objects..\n",
      "39967 asteroid(s) visible\n",
      "33 asteroids not visible\n",
      "checked 50000 objects..\n",
      "49960 asteroid(s) visible\n",
      "40 asteroids not visible\n",
      "checked 60000 objects..\n",
      "59954 asteroid(s) visible\n",
      "46 asteroids not visible\n",
      "checked 70000 objects..\n",
      "69943 asteroid(s) visible\n",
      "57 asteroids not visible\n",
      "checked 80000 objects..\n",
      "79938 asteroid(s) visible\n",
      "62 asteroids not visible\n",
      "checked 90000 objects..\n",
      "89923 asteroid(s) visible\n",
      "77 asteroids not visible\n",
      "checked 100000 objects..\n",
      "99917 asteroid(s) visible\n",
      "83 asteroids not visible\n",
      "checked 110000 objects..\n",
      "109916 asteroid(s) visible\n",
      "84 asteroids not visible\n",
      "checked 120000 objects..\n",
      "119897 asteroid(s) visible\n",
      "103 asteroids not visible\n",
      "checked 130000 objects..\n",
      "129882 asteroid(s) visible\n",
      "118 asteroids not visible\n",
      "checked 140000 objects..\n",
      "139859 asteroid(s) visible\n",
      "141 asteroids not visible\n",
      "checked 150000 objects..\n",
      "149837 asteroid(s) visible\n",
      "163 asteroids not visible\n",
      "checked 160000 objects..\n",
      "159800 asteroid(s) visible\n",
      "200 asteroids not visible\n",
      "checked 170000 objects..\n",
      "169779 asteroid(s) visible\n",
      "221 asteroids not visible\n",
      "checked 180000 objects..\n",
      "179747 asteroid(s) visible\n",
      "253 asteroids not visible\n",
      "checked 190000 objects..\n",
      "189593 asteroid(s) visible\n",
      "407 asteroids not visible\n",
      "checked 200000 objects..\n",
      "199541 asteroid(s) visible\n",
      "459 asteroids not visible\n",
      "checked 210000 objects..\n",
      "209444 asteroid(s) visible\n",
      "556 asteroids not visible\n",
      "checked 220000 objects..\n",
      "219320 asteroid(s) visible\n",
      "680 asteroids not visible\n",
      "checked 230000 objects..\n",
      "229103 asteroid(s) visible\n",
      "897 asteroids not visible\n",
      "checked 240000 objects..\n",
      "238929 asteroid(s) visible\n",
      "1071 asteroids not visible\n",
      "checked 250000 objects..\n",
      "248731 asteroid(s) visible\n",
      "1269 asteroids not visible\n",
      "checked 260000 objects..\n",
      "258450 asteroid(s) visible\n",
      "1550 asteroids not visible\n",
      "checked 270000 objects..\n",
      "267930 asteroid(s) visible\n",
      "2070 asteroids not visible\n",
      "checked 280000 objects..\n",
      "277375 asteroid(s) visible\n",
      "2625 asteroids not visible\n",
      "checked 290000 objects..\n",
      "287031 asteroid(s) visible\n",
      "2969 asteroids not visible\n",
      "checked 300000 objects..\n",
      "296139 asteroid(s) visible\n",
      "3861 asteroids not visible\n",
      "checked 310000 objects..\n",
      "305400 asteroid(s) visible\n",
      "4600 asteroids not visible\n",
      "checked 320000 objects..\n",
      "314522 asteroid(s) visible\n",
      "5478 asteroids not visible\n",
      "checked 330000 objects..\n",
      "323606 asteroid(s) visible\n",
      "6394 asteroids not visible\n",
      "checked 340000 objects..\n",
      "333044 asteroid(s) visible\n",
      "6956 asteroids not visible\n",
      "checked 350000 objects..\n",
      "342111 asteroid(s) visible\n",
      "7889 asteroids not visible\n",
      "checked 360000 objects..\n",
      "350834 asteroid(s) visible\n",
      "9166 asteroids not visible\n",
      "checked 370000 objects..\n",
      "359678 asteroid(s) visible\n",
      "10322 asteroids not visible\n",
      "checked 380000 objects..\n",
      "368448 asteroid(s) visible\n",
      "11552 asteroids not visible\n",
      "checked 390000 objects..\n",
      "377221 asteroid(s) visible\n",
      "12779 asteroids not visible\n",
      "checked 400000 objects..\n",
      "385580 asteroid(s) visible\n",
      "14420 asteroids not visible\n",
      "checked 410000 objects..\n",
      "393864 asteroid(s) visible\n",
      "16136 asteroids not visible\n",
      "checked 420000 objects..\n",
      "402372 asteroid(s) visible\n",
      "17628 asteroids not visible\n",
      "checked 430000 objects..\n",
      "410818 asteroid(s) visible\n",
      "19182 asteroids not visible\n",
      "checked 440000 objects..\n",
      "419263 asteroid(s) visible\n",
      "20737 asteroids not visible\n",
      "checked 450000 objects..\n",
      "427466 asteroid(s) visible\n",
      "22534 asteroids not visible\n",
      "checked 460000 objects..\n",
      "435946 asteroid(s) visible\n",
      "24053 asteroids not visible\n",
      "checked 470000 objects..\n",
      "444652 asteroid(s) visible\n",
      "25347 asteroids not visible\n",
      "checked 480000 objects..\n",
      "452035 asteroid(s) visible\n",
      "27964 asteroids not visible\n",
      "checked 490000 objects..\n",
      "459605 asteroid(s) visible\n",
      "30394 asteroids not visible\n",
      "checked 500000 objects..\n",
      "467027 asteroid(s) visible\n",
      "32972 asteroids not visible\n",
      "checked 510000 objects..\n",
      "474610 asteroid(s) visible\n",
      "35389 asteroids not visible\n",
      "checked 520000 objects..\n",
      "482555 asteroid(s) visible\n",
      "37444 asteroids not visible\n",
      "checked 530000 objects..\n",
      "490218 asteroid(s) visible\n",
      "39781 asteroids not visible\n",
      "checked 540000 objects..\n",
      "498118 asteroid(s) visible\n",
      "41881 asteroids not visible\n",
      "checked 550000 objects..\n",
      "505818 asteroid(s) visible\n",
      "44181 asteroids not visible\n",
      "checked 560000 objects..\n",
      "513929 asteroid(s) visible\n",
      "46070 asteroids not visible\n",
      "checked 570000 objects..\n",
      "521632 asteroid(s) visible\n",
      "48367 asteroids not visible\n",
      "checked 580000 objects..\n",
      "528973 asteroid(s) visible\n",
      "51026 asteroids not visible\n",
      "checked 590000 objects..\n",
      "536921 asteroid(s) visible\n",
      "53078 asteroids not visible\n",
      "checked 600000 objects..\n",
      "543328 asteroid(s) visible\n",
      "56670 asteroids not visible\n",
      "checked 610000 objects..\n",
      "548683 asteroid(s) visible\n",
      "61315 asteroids not visible\n",
      "checked 620000 objects..\n",
      "554088 asteroid(s) visible\n",
      "65910 asteroids not visible\n",
      "checked 630000 objects..\n",
      "559912 asteroid(s) visible\n",
      "70086 asteroids not visible\n",
      "checked 640000 objects..\n",
      "568989 asteroid(s) visible\n",
      "71009 asteroids not visible\n",
      "checked 650000 objects..\n",
      "577369 asteroid(s) visible\n",
      "72629 asteroids not visible\n",
      "checked 660000 objects..\n",
      "582804 asteroid(s) visible\n",
      "77194 asteroids not visible\n",
      "checked 670000 objects..\n",
      "587295 asteroid(s) visible\n",
      "82703 asteroids not visible\n",
      "checked 680000 objects..\n",
      "593062 asteroid(s) visible\n",
      "86936 asteroids not visible\n",
      "checked 690000 objects..\n",
      "597542 asteroid(s) visible\n",
      "92456 asteroids not visible\n",
      "checked 700000 objects..\n",
      "603091 asteroid(s) visible\n",
      "96907 asteroids not visible\n",
      "605110 asteroid(s) visible\n",
      "98457 asteroids not visible\n",
      "completed in 2.250819 seconds\n"
     ]
    }
   ],
   "source": [
    "# test all asteroids to check how many are out of magnitude range.\n",
    "a = time.time()\n",
    "\n",
    "visiblecount = 0\n",
    "notviscount = 0\n",
    "totcount = 0\n",
    "for MP in MPCORB:\n",
    "    \n",
    "    # ignore break lines in the MPCORB catalogue:\n",
    "    if MP[0] == \"\":\n",
    "        pass\n",
    "    \n",
    "    # auto-assign an abs mag of 14.0 if missing:\n",
    "    elif MP[1] == \"\":\n",
    "        if asteroid_mag(14.0, MP[10], MP[8]) < 20.0:\n",
    "            visiblecount += 1\n",
    "        else:\n",
    "            notviscount += 1\n",
    "    # if all info present, proceed as normal:\n",
    "    else:\n",
    "        if asteroid_mag(MP[1], MP[10], MP[8]) < 20.0:    # object at least visible for us in the best conditions.\n",
    "            visiblecount += 1\n",
    "        else:\n",
    "            notviscount += 1\n",
    "    totcount += 1   \n",
    "    if totcount % 10000 == 0:\n",
    "        print('checked %s objects..' %(totcount))\n",
    "        print('%s asteroid(s) visible' %(visiblecount))\n",
    "        print('%s asteroids not visible' %(notviscount))\n",
    "        \n",
    "print('%s asteroid(s) visible' %(visiblecount))\n",
    "print('%s asteroids not visible' %(notviscount))\n",
    "b = time.time()\n",
    "print('completed in %f seconds' %(b-a))"
   ]
  },
  {
   "cell_type": "code",
   "execution_count": 162,
   "metadata": {
    "collapsed": false
   },
   "outputs": [
    {
     "name": "stdout",
     "output_type": "stream",
     "text": [
      "2014/9/21 00:00:00\n",
      "(142549) 2002 TJ53 is approximately 1:09:20.5 degrees from potential transient source\n",
      "(216692) 2004 HW50 is approximately 0:40:03.6 degrees from potential transient source\n",
      "(256155) 2006 VO44 is approximately 0:37:28.1 degrees from potential transient source\n",
      "2004 BY26 is approximately 0:39:33.0 degrees from potential transient source\n",
      "2013 BH16 is approximately 1:22:09.2 degrees from potential transient source\n",
      "2014 QD is approximately 1:18:14.6 degrees from potential transient source\n",
      "2010 NP67 is approximately 1:12:15.1 degrees from potential transient source\n",
      "2012 XN112 is approximately 1:05:37.6 degrees from potential transient source\n",
      "2014 PQ62 is approximately 1:31:42.4 degrees from potential transient source\n",
      "2014 UR191 is approximately 0:30:55.8 degrees from potential transient source\n",
      "10 asteroids located within 1:42:26.7 degrees of position RA: 0:54:53.50  Dec: -37:41:04.0 at time 2014/9/21 00:00:00\n",
      "['E2549' '15.1' '0.15' 'K161D' '152.07893' '258.02444' '49.10191'\n",
      " '29.59719' '0.0783538' '0.23450120' '2.6043899' '0' 'MPO359725' '270' '11'\n",
      " '1992-2015' '0.50' 'M-v' '38h' 'MPCLINUX' '0000' '(142549) 2002 TJ53'\n",
      " '20151203']\n",
      "0:59:39.89\n",
      "0:58:56.50\n",
      "-36:46:18.3\n",
      "-36:51:14.0\n",
      "['L6692' '15.4' '0.15' 'K161D' '171.84907' '205.48811' '60.42343'\n",
      " '28.21246' '0.1772379' '0.21841974' '2.7307051' '0' 'MPO360134' '141' '11'\n",
      " '2001-2015' '0.48' 'M-v' '38h' 'MPCLINUX' '0000' '(216692) 2004 HW50'\n",
      " '20151218']\n",
      "0:56:33.82\n",
      "0:55:50.45\n",
      "-38:14:39.1\n",
      "-38:19:35.6\n",
      "['P6155' '15.8' '0.15' 'K161D' '120.32505' '278.01299' '61.76484'\n",
      " '17.57748' '0.3823399' '0.23722444' '2.5844200' '0' 'MPO334481' '324' '9'\n",
      " '2001-2015' '0.42' 'M-v' '38h' 'MPCLINUX' '0005' '(256155) 2006 VO44'\n",
      " '20150309']\n",
      "0:56:56.38\n",
      "0:56:12.32\n",
      "-37:02:05.2\n",
      "-37:07:02.6\n",
      "['K04B26Y' '16.7' '0.15' 'K161D' '274.46533' '87.84406' '98.10267'\n",
      " '28.99153' '0.3354196' '0.23184192' '2.6242673' '1' 'E2016-A83' '66' '4'\n",
      " '2000-2016' '0.46' 'M-v' '38h' 'MPCADO' '0400' '2004 BY26' '20160109']\n",
      "0:53:31.83\n",
      "0:52:48.25\n",
      "-37:05:31.7\n",
      "-37:10:29.0\n",
      "['K13B16H' '17.7' '0.15' 'K161D' '198.35756' '210.48338' '134.90891'\n",
      " '24.01999' '0.0955488' '0.39054820' '1.8536154' '1' 'E2016-B48' '44' '5'\n",
      " '1997-2016' '0.37' 'M-v' '38h' 'MPCADO' '0006' '2013 BH16' '20160120']\n",
      "0:51:25.46\n",
      "0:50:41.06\n",
      "-36:31:13.3\n",
      "-36:36:12.0\n",
      "['K14Q00D' '16.9' '0.15' 'K161D' '114.25502' '234.27847' '108.61446'\n",
      " '19.42294' '0.3439330' '0.22485380' '2.6783617' '2' 'MPO318012' '27' '1'\n",
      " '103 days' '0.20' 'M-v' '38h' 'MPCADO' '2000' '2014 QD' '20141127']\n",
      "0:49:02.77\n",
      "0:48:18.43\n",
      "-37:36:08.9\n",
      "-37:41:08.1\n",
      "['K10N67P' '16.4' '0.15' 'K1073' '323.23426' '330.78180' '58.05071'\n",
      " '27.59759' '0.0323817' '0.23527528' '2.5986743' '' 'MPO181811' '18' '1'\n",
      " '2 days' '0.62' '' '' 'MPCS' '2000' '2010 NP67' '20100715']\n",
      "0:50:38.28\n",
      "0:49:54.49\n",
      "-38:17:46.8\n",
      "-38:22:45.1\n",
      "['K12XB2N' '19.3' '0.15' 'K12BT' '236.07574' '113.85694' '96.14998'\n",
      " '21.89825' '0.1757934' '0.39244455' '1.8476393' '' 'MPO248952' '8' '1'\n",
      " '4 days' '0.26' '' '' 'MPCAPO' '2006' '2012 XN112' '20121213']\n",
      "0:59:38.61\n",
      "0:58:55.11\n",
      "-36:51:19.1\n",
      "-36:56:15.0\n",
      "['K14P62Q' '19.3' '0.15' 'K148B' '358.83390' '234.84839' '104.30262'\n",
      " '17.75555' '0.3310240' '0.24875864' '2.5039017' '' 'MPO311442' '12' '1'\n",
      " '44 days' '0.15' '' '' 'MPCMEL' '2000' '2014 PQ62' '20140916']\n",
      "0:59:43.30\n",
      "0:58:59.44\n",
      "-36:18:39.0\n",
      "-36:23:35.4\n",
      "['K14UJ1R' '19.4' '0.15' 'K14AU' '348.76511' '359.83525' '33.21571'\n",
      " '22.05291' '0.1412584' '0.45875534' '1.6650040' '' 'MPO322380' '20' '1'\n",
      " '27 days' '0.28' '' '' 'MPCW' '2005' '2014 UR191' '20141126']\n",
      "0:53:30.88\n",
      "0:52:46.34\n",
      "-37:18:11.9\n",
      "-37:23:10.7\n",
      "checked 703569 objects (605110 brighter than H=20.0) in 17.980452 seconds\n"
     ]
    }
   ],
   "source": [
    "# WITH H<20 condition:\n",
    "\n",
    "a = time.time()\n",
    "lights = [['2014-09-21T00:00:00', '00:54:53.5', '-37:41:04']]\n",
    "huntsman = ephem.Observer()\n",
    "huntsman.lon = 149.067307\n",
    "huntsman.lat = -31.274587\n",
    "huntsman.elevation = 510    # Average alt. of Coona. Needs updating when dome/mount contructed.\n",
    "\n",
    "visiblecount = 0\n",
    "notviscount = 0\n",
    "totcount = 0\n",
    "\n",
    "for image in lights:\n",
    "    transcoords = ephem.FixedBody()   # create fixed object to hold coords of target\n",
    "    #transcoords = ephem.FixedBody(float(fits.getheader(image)['OBJECTRA']), float(fits.getheader(image)['OBJECTDEC']))\n",
    "    transcoords._ra = image[1]\n",
    "    transcoords._dec = image[2]\n",
    "    transcoords.compute()\n",
    "    #datestr = fits.getheader(image)['DATE']                      # get date/time from fits header\n",
    "    datestr = image[0]\n",
    "    huntsman.date = ephem.Date((int(datestr[0:4]), int(datestr[5:7]), int(datestr[8:10]), \\\n",
    "                                int(datestr[11:13]), int(datestr[14:16]), int(datestr[17:19])))\n",
    "    print(huntsman.date)                                                        # ^ get the date/time from the fits header\n",
    "    identcount = 0 # initialize a new count of identified objects\n",
    "    totcount = 0   # used for checking total number checked\n",
    "    visible = 0\n",
    "    identlist = []\n",
    "    \n",
    "    for MP in MPCORB:\n",
    "        totcount += 1\n",
    "        if MP[0] == \"\":\n",
    "            pass\n",
    "        elif MP[1] == \"\":\n",
    "            if asteroid_mag(14.0, MP[10], MP[8]) < 20.0:\n",
    "                visible += 1\n",
    "                newbody = ephem.EllipticalBody()\n",
    "                # Longitude of ascending node:\n",
    "                newbody._Om = float(MP[6])\n",
    "                # Inclination:\n",
    "                newbody._inc = float(MP[7])\n",
    "                # Arg of perihelion\n",
    "                newbody._om = float(MP[5])\n",
    "                # Mean distance from Sun: ???????????? ACCURATE?? Semi Major Axis, technically.\n",
    "                newbody._a = float(MP[10])\n",
    "                # Eccentricity:\n",
    "                newbody._e = float(MP[8])\n",
    "                # Mean anomoly from perihelion:\n",
    "                newbody._M = float(MP[4])\n",
    "                # Epoch = J2000:\n",
    "                newbody._epoch = ephem.J2000\n",
    "                # Epoch for _M:\n",
    "                aster_epoch_str = epoch_convert(MP[3])\n",
    "                aster_year = int(aster_epoch_str[:4])\n",
    "                aster_month = int(aster_epoch_str[4:6])\n",
    "                aster_day = float(aster_epoch_str[6:])\n",
    "                aster_epoch = ephem.Date((aster_year, aster_month, aster_day))\n",
    "                newbody._epoch_M = aster_epoch\n",
    "                \n",
    "                newbody.compute(huntsman)\n",
    "                sep = ephem.separation(newbody, transcoords)\n",
    "                #print('Asteroid %s is at RA %s  Dec %s' % (MP[21], newbody.a_ra, newbody.a_dec))\n",
    "                if sep < ephem.degrees(0.0298):\n",
    "                    identcount += 1\n",
    "                    identlist.append(MP)\n",
    "                    identlist.append(newbody.ra)\n",
    "                    identlist.append(newbody.a_ra)\n",
    "                    identlist.append(newbody.dec)\n",
    "                \n",
    "                    print('%s asteroid(s) found: ' %(identcount))\n",
    "                    print('%s is approximately %s degrees from potential transient source' % (MP[21], sep))\n",
    "\n",
    "                \n",
    "        else: #all info present, proceed as normal\n",
    "            if asteroid_mag(MP[1], MP[10], MP[8]) < 20.0:\n",
    "                visible += 1\n",
    "                newbody = ephem.EllipticalBody()\n",
    "                # Longitude of ascending node:\n",
    "                newbody._Om = float(MP[6])\n",
    "                # Inclination:\n",
    "                newbody._inc = float(MP[7])\n",
    "                # Arg of perihelion\n",
    "                newbody._om = float(MP[5])\n",
    "                # Mean distance from Sun: ???????????? ACCURATE?? Semi Major Axis, technically.\n",
    "                newbody._a = float(MP[10])\n",
    "                # Eccentricity:\n",
    "                newbody._e = float(MP[8])\n",
    "                # Mean anomoly from perihelion:\n",
    "                newbody._M = float(MP[4])\n",
    "                # Epoch = J2000:\n",
    "                newbody._epoch = ephem.J2000\n",
    "                # Epoch for _M:\n",
    "                aster_epoch_str = epoch_convert(MP[3])\n",
    "                aster_year = int(aster_epoch_str[:4])\n",
    "                aster_month = int(aster_epoch_str[4:6])\n",
    "                aster_day = float(aster_epoch_str[6:])\n",
    "                aster_epoch = ephem.Date((aster_year, aster_month, aster_day))\n",
    "                newbody._epoch_M = aster_epoch\n",
    "                \n",
    "                newbody.compute(huntsman)\n",
    "                sep = ephem.separation(newbody, transcoords)\n",
    "                #print('Asteroid %s is at RA %s  Dec %s' % (MP[21], newbody.a_ra, newbody.a_dec))\n",
    "                if sep < ephem.degrees(0.0298):\n",
    "                    identcount += 1\n",
    "                    identlist.append(MP)\n",
    "                    identlist.append(newbody.ra)\n",
    "                    identlist.append(newbody.a_ra)\n",
    "                    identlist.append(newbody.dec)\n",
    "                    identlist.append(newbody.a_dec)\n",
    "                \n",
    "                    print('%s is approximately %s degrees from potential transient source' % (MP[21], sep))\n",
    "                    # possibly also document them into a txt file?\n",
    "\n",
    "\n",
    "    if identcount == 0:\n",
    "        print('No asteroid located within %s degrees of position RA: %s Dec: %s at time %s' %(ephem.degrees(0.0298), transcoords._ra, transcoords._dec, huntsman.date))\n",
    "    else:\n",
    "        print('%s asteroids located within %s degrees of position RA: %s  Dec: %s at time %s' %(identcount, ephem.degrees(0.0298), transcoords._ra, transcoords._dec, huntsman.date))\n",
    "        for ident in identlist:\n",
    "            print(ident)\n",
    "            \n",
    "b = time.time()\n",
    "print('checked %s objects (%s brighter than H=20.0) in %f seconds' %(totcount, visible, b-a))"
   ]
  },
  {
   "cell_type": "code",
   "execution_count": 136,
   "metadata": {
    "collapsed": false
   },
   "outputs": [
    {
     "name": "stdout",
     "output_type": "stream",
     "text": [
      "2014/9/21 15:21:50\n",
      "checked 10000 objects..\n",
      "checked 20000 objects..\n",
      "checked 30000 objects..\n",
      "checked 40000 objects..\n",
      "checked 50000 objects..\n",
      "checked 60000 objects..\n",
      "checked 70000 objects..\n",
      "checked 80000 objects..\n",
      "checked 90000 objects..\n",
      "checked 100000 objects..\n",
      "checked 110000 objects..\n",
      "checked 120000 objects..\n",
      "checked 130000 objects..\n",
      "checked 140000 objects..\n",
      "1 asteroid(s) found: \n",
      "(142549) 2002 TJ53 is approximately 1:02:50.1 degrees from potential transient source\n",
      "checked 150000 objects..\n",
      "checked 160000 objects..\n",
      "checked 170000 objects..\n",
      "checked 180000 objects..\n",
      "checked 190000 objects..\n",
      "checked 200000 objects..\n",
      "checked 210000 objects..\n",
      "2 asteroid(s) found: \n",
      "(216692) 2004 HW50 is approximately 0:39:10.1 degrees from potential transient source\n",
      "checked 220000 objects..\n",
      "checked 230000 objects..\n",
      "checked 240000 objects..\n",
      "checked 250000 objects..\n",
      "3 asteroid(s) found: \n",
      "(256155) 2006 VO44 is approximately 0:40:04.6 degrees from potential transient source\n",
      "checked 260000 objects..\n",
      "checked 270000 objects..\n",
      "checked 280000 objects..\n",
      "checked 290000 objects..\n",
      "checked 300000 objects..\n",
      "checked 310000 objects..\n",
      "checked 320000 objects..\n",
      "checked 330000 objects..\n",
      "checked 340000 objects..\n",
      "checked 350000 objects..\n",
      "checked 360000 objects..\n",
      "checked 370000 objects..\n",
      "checked 380000 objects..\n",
      "checked 390000 objects..\n",
      "checked 400000 objects..\n",
      "checked 410000 objects..\n",
      "checked 420000 objects..\n",
      "checked 430000 objects..\n",
      "checked 440000 objects..\n",
      "checked 450000 objects..\n",
      "checked 460000 objects..\n",
      "4 asteroid(s) found: \n",
      "2004 BY26 is approximately 0:41:43.2 degrees from potential transient source\n",
      "checked 470000 objects..\n",
      "checked 480000 objects..\n",
      "checked 490000 objects..\n",
      "checked 500000 objects..\n",
      "5 asteroid(s) found: \n",
      "2008 YK2 is approximately 1:34:16.3 degrees from potential transient source\n",
      "checked 510000 objects..\n",
      "checked 520000 objects..\n",
      "checked 530000 objects..\n",
      "checked 540000 objects..\n",
      "6 asteroid(s) found: \n",
      "2013 BH16 is approximately 1:15:41.3 degrees from potential transient source\n",
      "checked 550000 objects..\n",
      "checked 560000 objects..\n",
      "7 asteroid(s) found: \n",
      "2014 QD is approximately 1:22:30.1 degrees from potential transient source\n",
      "checked 570000 objects..\n",
      "checked 580000 objects..\n",
      "checked 590000 objects..\n",
      "checked 600000 objects..\n",
      "checked 610000 objects..\n",
      "checked 620000 objects..\n",
      "checked 630000 objects..\n",
      "checked 640000 objects..\n",
      "8 asteroid(s) found: \n",
      "2010 NP67 is approximately 1:20:28.5 degrees from potential transient source\n",
      "checked 650000 objects..\n",
      "checked 660000 objects..\n",
      "9 asteroid(s) found: \n",
      "2012 XN112 is approximately 0:54:52.4 degrees from potential transient source\n",
      "checked 670000 objects..\n",
      "checked 680000 objects..\n",
      "10 asteroid(s) found: \n",
      "2014 PQ62 is approximately 1:25:57.3 degrees from potential transient source\n",
      "11 asteroid(s) found: \n",
      "2014 UR191 is approximately 0:51:05.4 degrees from potential transient source\n",
      "checked 690000 objects..\n",
      "checked 700000 objects..\n",
      "11 asteroids located within 1:42:26.7 degrees of position RA: 0:54:53.50  Dec: -37:41:04.0 at time 2014/9/21 15:21:50\n",
      "['E2549' '15.1' '0.15' 'K161D' '152.07893' '258.02444' '49.10191'\n",
      " '29.59719' '0.0783538' '0.23450120' '2.6043899' '0' 'MPO359725' '270' '11'\n",
      " '1992-2015' '0.50' 'M-v' '38h' 'MPCLINUX' '0000' '(142549) 2002 TJ53'\n",
      " '20151203']\n",
      "0:58:47.73\n",
      "-36:45:58.1\n",
      "['L6692' '15.4' '0.15' 'K161D' '171.84907' '205.48811' '60.42343'\n",
      " '28.21246' '0.1772379' '0.21841974' '2.7307051' '0' 'MPO360134' '141' '11'\n",
      " '2001-2015' '0.48' 'M-v' '38h' 'MPCLINUX' '0000' '(216692) 2004 HW50'\n",
      " '20151218']\n",
      "0:55:46.83\n",
      "-38:15:16.3\n",
      "['P6155' '15.8' '0.15' 'K161D' '120.32505' '278.01299' '61.76484'\n",
      " '17.57748' '0.3823399' '0.23722444' '2.5844200' '0' 'MPO334481' '324' '9'\n",
      " '2001-2015' '0.42' 'M-v' '38h' 'MPCLINUX' '0005' '(256155) 2006 VO44'\n",
      " '20150309']\n",
      "0:56:14.78\n",
      "-36:56:44.8\n",
      "['K04B26Y' '16.7' '0.15' 'K161D' '274.46533' '87.84406' '98.10267'\n",
      " '28.99153' '0.3354196' '0.23184192' '2.6242673' '1' 'E2016-A83' '66' '4'\n",
      " '2000-2016' '0.46' 'M-v' '38h' 'MPCADO' '0400' '2004 BY26' '20160109']\n",
      "0:52:56.45\n",
      "-37:09:26.4\n",
      "['K08Y02K' '19.6' '0.15' 'K161D' '46.74290' '48.08145' '93.75794'\n",
      " '25.48711' '0.4905469' '0.30317203' '2.1945390' '3' 'MPO158630' '209' '1'\n",
      " '149 days' '0.37' 'M-v' '38h' 'MPCALB' '2804' '2008 YK2' '20090518']\n",
      "0:57:35.65\n",
      "-36:04:52.1\n",
      "['K13B16H' '17.7' '0.15' 'K161D' '198.35756' '210.48338' '134.90891'\n",
      " '24.01999' '0.0955488' '0.39054820' '1.8536154' '1' 'E2016-B48' '44' '5'\n",
      " '1997-2016' '0.37' 'M-v' '38h' 'MPCADO' '0006' '2013 BH16' '20160120']\n",
      "0:50:58.48\n",
      "-36:44:50.0\n",
      "['K14Q00D' '16.9' '0.15' 'K161D' '114.25502' '234.27847' '108.61446'\n",
      " '19.42294' '0.3439330' '0.22485380' '2.6783617' '2' 'MPO318012' '27' '1'\n",
      " '103 days' '0.20' 'M-v' '38h' 'MPCADO' '2000' '2014 QD' '20141127']\n",
      "0:48:41.71\n",
      "-37:40:46.1\n",
      "['K10N67P' '16.4' '0.15' 'K1073' '323.23426' '330.78180' '58.05071'\n",
      " '27.59759' '0.0323817' '0.23527528' '2.5986743' '' 'MPO181811' '18' '1'\n",
      " '2 days' '0.62' '' '' 'MPCS' '2000' '2010 NP67' '20100715']\n",
      "0:49:50.65\n",
      "-38:18:29.4\n",
      "['K12XB2N' '19.3' '0.15' 'K12BT' '236.07574' '113.85694' '96.14998'\n",
      " '21.89825' '0.1757934' '0.39244455' '1.8476393' '' 'MPO248952' '8' '1'\n",
      " '4 days' '0.26' '' '' 'MPCAPO' '2006' '2012 XN112' '20121213']\n",
      "0:58:48.66\n",
      "-36:56:31.5\n",
      "['K14P62Q' '19.3' '0.15' 'K148B' '358.83390' '234.84839' '104.30262'\n",
      " '17.75555' '0.3310240' '0.24875864' '2.5039017' '' 'MPO311442' '12' '1'\n",
      " '44 days' '0.15' '' '' 'MPCMEL' '2000' '2014 PQ62' '20140916']\n",
      "0:59:20.42\n",
      "-36:22:34.4\n",
      "['K14UJ1R' '19.4' '0.15' 'K14AU' '348.76511' '359.83525' '33.21571'\n",
      " '22.05291' '0.1412584' '0.45875534' '1.6650040' '' 'MPO322380' '20' '1'\n",
      " '27 days' '0.28' '' '' 'MPCW' '2005' '2014 UR191' '20141126']\n",
      "0:51:57.71\n",
      "-37:09:42.9\n",
      "(checked 703526 objects in 18.141274929 seconds)\n"
     ]
    }
   ],
   "source": [
    "# WITHOUT H<20 condition\n",
    "# will need to isolate the RA/Dec of potential transients identified in SExtractor first. Then check for time/date on \n",
    "# processed image. \n",
    "\n",
    "\n",
    "# lights = (list of images with transient source data)\n",
    "# Temporary data, will be replaced with actual FITS images ideally, or some other way to extract the required info\n",
    "# (eg list with WCS, temp, date and time?)\n",
    "\n",
    "lights = [['2016-01-15T00:00:00', '00:54:53.5', '-37:41:04']]\n",
    "\n",
    "huntsman = ephem.Observer()\n",
    "huntsman.lon = 149.067307\n",
    "huntsman.lat = -31.274587\n",
    "huntsman.elevation = 510    # Average alt. of Coona. Needs updating when dome/mount contructed.\n",
    "\n",
    "a = time.time()\n",
    "for image in lights:\n",
    "    transcoords = ephem.FixedBody()   # create fixed object to hold coords of target\n",
    "    #transcoords = ephem.FixedBody(float(fits.getheader(image)['OBJECTRA']), float(fits.getheader(image)['OBJECTDEC']))\n",
    "    transcoords._ra = image[1]\n",
    "    transcoords._dec = image[2]\n",
    "    transcoords.compute()\n",
    "    #datestr = fits.getheader(image)['DATE']                      # get date/time from fits header\n",
    "    datestr = image[0]\n",
    "    huntsman.date = ephem.Date((int(datestr[0:4]), int(datestr[5:7]), int(datestr[8:10]), \\\n",
    "                                int(datestr[11:13]), int(datestr[14:16]), int(datestr[17:19])))\n",
    "    print(huntsman.date)                                                        # ^ get the date/time from the fits header\n",
    "    identcount = 0 # initialize a new count of identified objects\n",
    "    totcount = 0  # used for checking total number checked\n",
    "    identlist = []\n",
    "    for MP in MPCORB:\n",
    "        if MP[0] == \"\":\n",
    "            pass\n",
    "        else:\n",
    "            newbody = ephem.EllipticalBody()\n",
    "            # Longitude of ascending node:\n",
    "            newbody._Om = float(MP[6])\n",
    "            # Inclination:\n",
    "            newbody._inc = float(MP[7])\n",
    "            # Arg of perihelion\n",
    "            newbody._om = float(MP[5])\n",
    "            # Mean distance from Sun: ???????????? ACCURATE?? Semi Major Axis, technically.\n",
    "            newbody._a = float(MP[10])\n",
    "            # Eccentricity:\n",
    "            newbody._e = float(MP[8])\n",
    "            # Mean anomoly from perihelion:\n",
    "            newbody._M = float(MP[4])\n",
    "            # Epoch = J2000:\n",
    "            newbody._epoch = ephem.J2000\n",
    "            # Epoch for _M:\n",
    "            aster_epoch_str = epoch_convert(MP[3])\n",
    "            aster_year = int(aster_epoch_str[:4])\n",
    "            aster_month = int(aster_epoch_str[4:6])\n",
    "            aster_day = float(aster_epoch_str[6:])\n",
    "            aster_epoch = ephem.Date((aster_year, aster_month, aster_day))\n",
    "            newbody._epoch_M = aster_epoch\n",
    "                \n",
    "            newbody.compute(huntsman)\n",
    "            sep = ephem.separation(newbody, transcoords)\n",
    "            #print('Asteroid %s is at RA %s  Dec %s' % (MP[21], newbody.a_ra, newbody.a_dec))\n",
    "            if sep < ephem.degrees(0.0298):\n",
    "                identcount += 1\n",
    "                totcount += 1\n",
    "                identlist.append(MP)\n",
    "                identlist.append(newbody.ra)\n",
    "                identlist.append(newbody.dec)\n",
    "                \n",
    "                print('%s asteroid(s) found: ' %(identcount))\n",
    "                print('%s is approximately %s degrees from potential transient source' % (MP[21], sep))\n",
    "                # possibly also document them into a txt file?\n",
    "            else:\n",
    "                #print('MP body %s is not within the threshold.. %s is %s degrees away from transient.' %(MP[21], MP[21], sep))\n",
    "                totcount += 1\n",
    "        if totcount % 10000 == 0:\n",
    "                print('checked %s objects..' %(totcount))\n",
    "    if identcount == 0:\n",
    "        print('No asteroid located within %s degrees of position RA: %s Dec: %s at time %s' %(ephem.degrees(0.0298), transcoords._ra, transcoords._dec, huntsman.date))\n",
    "    else:\n",
    "        print('%s asteroids located within %s degrees of position RA: %s  Dec: %s at time %s' %(identcount, ephem.degrees(0.0298), transcoords._ra, transcoords._dec, huntsman.date))\n",
    "        for ident in identlist:\n",
    "            print(ident)\n",
    "b = time.time()\n",
    "print('(checked %s objects in' %(totcount), b-a, 'seconds)')"
   ]
  },
  {
   "cell_type": "markdown",
   "metadata": {},
   "source": [
    "### Return anomalies:"
   ]
  },
  {
   "cell_type": "code",
   "execution_count": null,
   "metadata": {
    "collapsed": true
   },
   "outputs": [],
   "source": []
  },
  {
   "cell_type": "code",
   "execution_count": null,
   "metadata": {
    "collapsed": true
   },
   "outputs": [],
   "source": []
  },
  {
   "cell_type": "code",
   "execution_count": null,
   "metadata": {
    "collapsed": true
   },
   "outputs": [],
   "source": []
  },
  {
   "cell_type": "code",
   "execution_count": null,
   "metadata": {
    "collapsed": true
   },
   "outputs": [],
   "source": [
    "# Now work on a condition for shortlisting only objects that are potentially visible.."
   ]
  }
 ],
 "metadata": {
  "kernelspec": {
   "display_name": "Python 2",
   "language": "python",
   "name": "python2"
  },
  "language_info": {
   "codemirror_mode": {
    "name": "ipython",
    "version": 2
   },
   "file_extension": ".py",
   "mimetype": "text/x-python",
   "name": "python",
   "nbconvert_exporter": "python",
   "pygments_lexer": "ipython2",
   "version": "2.7.10"
  }
 },
 "nbformat": 4,
 "nbformat_minor": 0
}
